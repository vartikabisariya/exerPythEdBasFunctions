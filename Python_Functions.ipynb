{
 "cells": [
  {
   "cell_type": "markdown",
   "id": "fa3d1f30",
   "metadata": {
    "deletable": false,
    "editable": false,
    "nbgrader": {
     "cell_type": "markdown",
     "checksum": "dd0c344b36b842451c8e36789f2ef487",
     "grade": false,
     "grade_id": "cell-c9fc1ba7c41d07c6",
     "locked": true,
     "schema_version": 3,
     "solution": false,
     "task": false
    }
   },
   "source": [
    "### Instructions\n",
    "\n",
    "* Sign up for the free course on Educative, __Learn Python 3 From Scratch__\n",
    "* https://www.educative.io/courses/learn-python-3-from-scratch\n",
    "* Complete the programming exercises below as you go through the course.\n",
    "* Delete or comment out the line of code in each cell which says `raise NotImplementedError()` and replace it with your own."
   ]
  },
  {
   "cell_type": "markdown",
   "id": "3c6da4b6",
   "metadata": {
    "deletable": false,
    "editable": false,
    "nbgrader": {
     "cell_type": "markdown",
     "checksum": "6aafd03f8105146dcadcddcf3c099168",
     "grade": false,
     "grade_id": "cell-2c84e13cdaffc7fd",
     "locked": true,
     "schema_version": 3,
     "solution": false,
     "task": false
    }
   },
   "source": [
    "# Educative - Functions\n",
    "\n",
    "https://www.educative.io/courses/learn-python-3-from-scratch/7AnwxLr9AkQ"
   ]
  },
  {
   "cell_type": "markdown",
   "id": "8084c399",
   "metadata": {
    "deletable": false,
    "editable": false,
    "nbgrader": {
     "cell_type": "markdown",
     "checksum": "aed29e24e1d229e4bdc09021862158c1",
     "grade": false,
     "grade_id": "cell-0cf0005351f47ea4",
     "locked": true,
     "schema_version": 3,
     "solution": false,
     "task": false
    }
   },
   "source": [
    "### Exercises"
   ]
  },
  {
   "cell_type": "markdown",
   "id": "17c634be",
   "metadata": {
    "deletable": false,
    "editable": false,
    "nbgrader": {
     "cell_type": "markdown",
     "checksum": "3b4199c8b2a85467a351bc8fba6c60ef",
     "grade": false,
     "grade_id": "cell-c25f631dc91cb605",
     "locked": true,
     "schema_version": 3,
     "solution": false,
     "task": false
    }
   },
   "source": [
    "Write your code in the cell below.\n",
    "\n",
    "* Use the min() function to find the minimum of a set of numbers and print the result."
   ]
  },
  {
   "cell_type": "code",
   "execution_count": 1,
   "id": "2e568189",
   "metadata": {
    "deletable": false,
    "nbgrader": {
     "cell_type": "code",
     "checksum": "c15588ab1a38130e91e631c4b30a3ab9",
     "grade": true,
     "grade_id": "cell-4625aaf94fbbd7cd",
     "locked": false,
     "points": 1,
     "schema_version": 3,
     "solution": true,
     "task": false
    }
   },
   "outputs": [
    {
     "name": "stdout",
     "output_type": "stream",
     "text": [
      "27.84\n"
     ]
    }
   ],
   "source": [
    "\n",
    "# YOUR CODE HERE\n",
    "minimum = min (27.84, 54.36)\n",
    "print (minimum)"
   ]
  },
  {
   "cell_type": "markdown",
   "id": "2a24fa7a",
   "metadata": {
    "deletable": false,
    "editable": false,
    "nbgrader": {
     "cell_type": "markdown",
     "checksum": "a0feeafbc64e088fa52419bbef09b76f",
     "grade": false,
     "grade_id": "cell-82b41c5bcf1e322f",
     "locked": true,
     "schema_version": 3,
     "solution": false,
     "task": false
    }
   },
   "source": [
    "Write your answer in the cell below.\n",
    "\n",
    "* What are two basic types of functions in Python?"
   ]
  },
  {
   "cell_type": "code",
   "execution_count": null,
   "id": "34e96f1e",
   "metadata": {
    "deletable": false,
    "nbgrader": {
     "cell_type": "code",
     "checksum": "4217ade5238f8f9c6da921c2dbd9b903",
     "grade": true,
     "grade_id": "cell-91f5eb6b4d02cefd",
     "locked": false,
     "points": 1,
     "schema_version": 3,
     "solution": true,
     "task": false
    }
   },
   "outputs": [],
   "source": [
    "\n",
    "# YOUR CODE HERE\n",
    "# Built-in Functions\n",
    "# User-defined Functions"
   ]
  },
  {
   "cell_type": "markdown",
   "id": "dd8fa7c3",
   "metadata": {
    "deletable": false,
    "editable": false,
    "nbgrader": {
     "cell_type": "markdown",
     "checksum": "371c17bee10a3ed191d70ce83dae49d6",
     "grade": false,
     "grade_id": "cell-888723b732c32454",
     "locked": true,
     "schema_version": 3,
     "solution": false,
     "task": false
    }
   },
   "source": [
    "Write your code in the cell below.\n",
    "\n",
    "* Write a function called `my_print_function` which has no parameters.\n",
    "* Have your function print the words `This` `is` `a` `function` on separate lines when it is called.\n",
    "* Call your function to see the output."
   ]
  },
  {
   "cell_type": "code",
   "execution_count": 2,
   "id": "ca2bfeef",
   "metadata": {
    "deletable": false,
    "nbgrader": {
     "cell_type": "code",
     "checksum": "fb420cda0c5c9d85b4536c025dd174c5",
     "grade": true,
     "grade_id": "cell-d063c3d2eb498461",
     "locked": false,
     "points": 1,
     "schema_version": 3,
     "solution": true,
     "task": false
    }
   },
   "outputs": [
    {
     "name": "stdout",
     "output_type": "stream",
     "text": [
      "This\n",
      "is\n",
      "A\n",
      "function\n"
     ]
    }
   ],
   "source": [
    "\n",
    "# YOUR CODE HERE\n",
    "def my_print_function ():\n",
    "    print(\"This\")\n",
    "    print(\"is\")\n",
    "    print(\"A\")\n",
    "    print(\"function\")\n",
    "    \n",
    "my_print_function()\n"
   ]
  },
  {
   "cell_type": "markdown",
   "id": "e660fe5d",
   "metadata": {
    "deletable": false,
    "editable": false,
    "nbgrader": {
     "cell_type": "markdown",
     "checksum": "4f877889d8cd60c40770605b3db667d1",
     "grade": false,
     "grade_id": "cell-12fd5343d1cbffaf",
     "locked": true,
     "schema_version": 3,
     "solution": false,
     "task": false
    }
   },
   "source": [
    "Write your code in the cell below.\n",
    "\n",
    "* Write a function called `minimum` which has two parameters called `first` and `second'.\n",
    "* Have your function `print` the minimum value for the two parameters which are passed.\n",
    "* Call your function to see the output using the sample variables provided."
   ]
  },
  {
   "cell_type": "code",
   "execution_count": 4,
   "id": "e5b10a27",
   "metadata": {
    "deletable": false,
    "nbgrader": {
     "cell_type": "code",
     "checksum": "b98dda2e299e6b0e473d2e0a244fccd5",
     "grade": true,
     "grade_id": "cell-6897edf62d838d8c",
     "locked": false,
     "points": 1,
     "schema_version": 3,
     "solution": true,
     "task": false
    }
   },
   "outputs": [
    {
     "name": "stdout",
     "output_type": "stream",
     "text": [
      "10\n"
     ]
    }
   ],
   "source": [
    "num1 = 10\n",
    "num2 = 20\n",
    "\n",
    "# YOUR CODE HERE\n",
    "def minimum(first, second):\n",
    "    if (first < second):\n",
    "        print(first)\n",
    "    else:\n",
    "        print(second)\n",
    "\n",
    "\n",
    "num1 = 10\n",
    "num2 = 20\n",
    "\n",
    "minimum(num1, num2)"
   ]
  },
  {
   "cell_type": "markdown",
   "id": "d551c8f6",
   "metadata": {
    "deletable": false,
    "editable": false,
    "nbgrader": {
     "cell_type": "markdown",
     "checksum": "c4b3c42d34099306381def94e29b2fd5",
     "grade": false,
     "grade_id": "cell-778429524c9528eb",
     "locked": true,
     "schema_version": 3,
     "solution": false,
     "task": false
    }
   },
   "source": [
    "Write your code in the cell below.\n",
    "\n",
    "* Refactor your function called `minimum` which has two parameters called `first` and `second'.\n",
    "* Have your function `return` the minimum value for the two parameters which are passed instead of printing directly.\n",
    "* Call your function and print the result to see the output using the sample variables provided."
   ]
  },
  {
   "cell_type": "code",
   "execution_count": null,
   "id": "7df8d422",
   "metadata": {
    "deletable": false,
    "nbgrader": {
     "cell_type": "code",
     "checksum": "78cf3b62d8cbd2bb5d51d0457ac860fb",
     "grade": true,
     "grade_id": "cell-89c4861a0fc4c82e",
     "locked": false,
     "points": 1,
     "schema_version": 3,
     "solution": true,
     "task": false
    }
   },
   "outputs": [],
   "source": [
    "num1 = 10\n",
    "num2 = 20\n",
    "\n",
    "# YOUR CODE HERE\n",
    "def minimum(first, second):\n",
    "    if (first < second):\n",
    "        return first\n",
    "    return second\n",
    "\n",
    "\n",
    "num1 = 10\n",
    "num2 = 20\n",
    "\n",
    "result = minimum(num1, num2) \n",
    "print(result)"
   ]
  },
  {
   "cell_type": "markdown",
   "id": "fbe13459",
   "metadata": {
    "deletable": false,
    "editable": false,
    "nbgrader": {
     "cell_type": "markdown",
     "checksum": "ecbf5ec40260e3b09ed24f548b6eddaa",
     "grade": false,
     "grade_id": "cell-bfa5d563ae5cedf2",
     "locked": true,
     "schema_version": 3,
     "solution": false,
     "task": false
    }
   },
   "source": [
    "Write your answer in the cell below.\n",
    "\n",
    "* What is an example of immutable data?\n",
    "* What is an example of mutable data?\n",
    "* Can a function modify immutable data outside the functions scope?\n",
    "* Can a function modify mutable data outside the function's scope?"
   ]
  },
  {
   "cell_type": "code",
   "execution_count": null,
   "id": "75141f87",
   "metadata": {
    "deletable": false,
    "nbgrader": {
     "cell_type": "code",
     "checksum": "b4303fcf37006bab7a28b3531a0fa792",
     "grade": true,
     "grade_id": "cell-4c285fd89d70208e",
     "locked": false,
     "points": 2,
     "schema_version": 3,
     "solution": true,
     "task": false
    }
   },
   "outputs": [],
   "source": [
    "\n",
    "# YOUR CODE HERE\n",
    "# Example of Immutable data are numbers, strings, etc\n",
    "# Example of mutable data is a list"
   ]
  },
  {
   "cell_type": "markdown",
   "id": "b9772011",
   "metadata": {
    "deletable": false,
    "editable": false,
    "nbgrader": {
     "cell_type": "markdown",
     "checksum": "b01449cef66b4588df401e27bd46aeff",
     "grade": false,
     "grade_id": "cell-57ca86e5684a22fb",
     "locked": true,
     "schema_version": 3,
     "solution": false,
     "task": false
    }
   },
   "source": [
    "Write your code in the cell below.\n",
    "\n",
    "* Write a function called `multiply_by_10` which takes a parameter called `my_list`.\n",
    "* Have your function multiply each number in the list by 10.\n",
    "* Call your function.\n",
    "* Print num_list."
   ]
  },
  {
   "cell_type": "code",
   "execution_count": 5,
   "id": "1aab08a2",
   "metadata": {
    "deletable": false,
    "nbgrader": {
     "cell_type": "code",
     "checksum": "5016877cce550ac045568c41c3c0d2cd",
     "grade": true,
     "grade_id": "cell-83ffe00c8edaea0c",
     "locked": false,
     "points": 2,
     "schema_version": 3,
     "solution": true,
     "task": false
    }
   },
   "outputs": [
    {
     "name": "stdout",
     "output_type": "stream",
     "text": [
      "[10, 20, 30, 40]\n",
      "[10, 20, 30, 40]\n",
      "[100, 200, 300, 400]\n"
     ]
    }
   ],
   "source": [
    "num_list = [10, 20, 30, 40]\n",
    "print(num_list)\n",
    "\n",
    "# YOUR CODE HERE\n",
    "num_list = [10, 20, 30, 40]\n",
    "print(num_list)\n",
    "\n",
    "\n",
    "def multiply_by_10(my_list):\n",
    "    my_list[0] *= 10\n",
    "    my_list[1] *= 10\n",
    "    my_list[2] *= 10\n",
    "    my_list[3] *= 10\n",
    "\n",
    "\n",
    "multiply_by_10(num_list)\n",
    "print(num_list)"
   ]
  },
  {
   "cell_type": "markdown",
   "id": "43767d7b",
   "metadata": {
    "deletable": false,
    "editable": false,
    "nbgrader": {
     "cell_type": "markdown",
     "checksum": "f0a1331bd6cd61f01c71cf52a645c634",
     "grade": false,
     "grade_id": "cell-6bc1b601ef14eefd",
     "locked": true,
     "schema_version": 3,
     "solution": false,
     "task": false
    }
   },
   "source": [
    "Write code in the cell below.\n",
    "\n",
    "* Use the find() method to get the first index position for the substring `is` in the given string.\n",
    "* Use the find() method to get the index position for the substring `is` in the given string between index positions 9 and 13."
   ]
  },
  {
   "cell_type": "code",
   "execution_count": 6,
   "id": "486615d0",
   "metadata": {
    "deletable": false,
    "nbgrader": {
     "cell_type": "code",
     "checksum": "98cd42a109648cdf2af520deac90f38d",
     "grade": true,
     "grade_id": "cell-6036e6b32ecc6b39",
     "locked": false,
     "points": 1,
     "schema_version": 3,
     "solution": true,
     "task": false
    }
   },
   "outputs": [
    {
     "name": "stdout",
     "output_type": "stream",
     "text": [
      "2\n",
      "-1\n"
     ]
    }
   ],
   "source": [
    "random_string = \"This is a string\"\n",
    "\n",
    "# YOUR CODE HERE\n",
    "print(random_string.find(\"is\"))\n",
    "print(random_string.find(\"is\", 9, 13))"
   ]
  },
  {
   "cell_type": "markdown",
   "id": "2d07544e",
   "metadata": {
    "deletable": false,
    "editable": false,
    "nbgrader": {
     "cell_type": "markdown",
     "checksum": "f97a693e37b0a57be5666dcc91132bcb",
     "grade": false,
     "grade_id": "cell-98519ada8fcc0126",
     "locked": true,
     "schema_version": 3,
     "solution": false,
     "task": false
    }
   },
   "source": [
    "Write code in the cell below.\n",
    "\n",
    "* Use the replace() method to replace the words `Welcome to` with the words `Greetings from` in the string given below.\n",
    "* Create a new variable called `new_string` to store the result.\n",
    "* Print the given string and the new string on separate lines."
   ]
  },
  {
   "cell_type": "code",
   "execution_count": 7,
   "id": "462b4ecb",
   "metadata": {
    "deletable": false,
    "nbgrader": {
     "cell_type": "code",
     "checksum": "57dd49ce5733b07413253e89cbeea20e",
     "grade": true,
     "grade_id": "cell-02d331f0f953b211",
     "locked": false,
     "points": 1,
     "schema_version": 3,
     "solution": true,
     "task": false
    }
   },
   "outputs": [
    {
     "name": "stdout",
     "output_type": "stream",
     "text": [
      "Welcome to Educative!\n",
      "Greetings from Educative!\n"
     ]
    }
   ],
   "source": [
    "a_string = \"Welcome to Educative!\"\n",
    "\n",
    "# YOUR CODE HERE\n",
    "new_string = a_string.replace(\"Welcome to\", \"Greetings from\")\n",
    "print(a_string)\n",
    "print(new_string)"
   ]
  },
  {
   "cell_type": "markdown",
   "id": "21ff1e99",
   "metadata": {
    "deletable": false,
    "editable": false,
    "nbgrader": {
     "cell_type": "markdown",
     "checksum": "2ffa53201e687c9730ad0ed2e42734de",
     "grade": false,
     "grade_id": "cell-ba8b00455256336b",
     "locked": true,
     "schema_version": 3,
     "solution": false,
     "task": false
    }
   },
   "source": [
    "Write code in the cell below.\n",
    "\n",
    "* Use the upper() method to change the word `UpperCase` to all caps. Print the result.\n",
    "* Use the lower() method to change the word `LowerCase` to all lower case. Print the result."
   ]
  },
  {
   "cell_type": "code",
   "execution_count": 8,
   "id": "2e7b6079",
   "metadata": {
    "deletable": false,
    "nbgrader": {
     "cell_type": "code",
     "checksum": "2d00d0bd6d7f97f1da5b0020c957588e",
     "grade": true,
     "grade_id": "cell-d890218866231718",
     "locked": false,
     "points": 1,
     "schema_version": 3,
     "solution": true,
     "task": false
    }
   },
   "outputs": [
    {
     "name": "stdout",
     "output_type": "stream",
     "text": [
      "UPPERCASE\n",
      "lowercase\n"
     ]
    }
   ],
   "source": [
    "\n",
    "# YOUR CODE HERE\n",
    "print(\"UpperCase\".upper())\n",
    "print(\"LowerCase\".lower())"
   ]
  },
  {
   "cell_type": "markdown",
   "id": "0867fbd9",
   "metadata": {
    "deletable": false,
    "editable": false,
    "nbgrader": {
     "cell_type": "markdown",
     "checksum": "6070c619ef083fdeb215a6fea2dcac97",
     "grade": false,
     "grade_id": "cell-5bea8975097a88f8",
     "locked": true,
     "schema_version": 3,
     "solution": false,
     "task": false
    }
   },
   "source": [
    "Write code in the cell below.\n",
    "\n",
    "* Use the int() method to change `var1` to an integer and multiply by 10. Print the result.\n",
    "* Use the int() method to change `var2` to an integer. Print the result.\n",
    "* Use the int() method to change `var3` to an integer. Print the result.\n",
    "* What would happen if you tried to use the int() method on the string `Hello`? Add a comment at the bottom of your code below to give your answer."
   ]
  },
  {
   "cell_type": "code",
   "execution_count": 9,
   "id": "a7720064",
   "metadata": {
    "deletable": false,
    "nbgrader": {
     "cell_type": "code",
     "checksum": "1d5e883f28489276346fa5e43ce2c640",
     "grade": true,
     "grade_id": "cell-fb760ba8219283ab",
     "locked": false,
     "points": 2,
     "schema_version": 3,
     "solution": true,
     "task": false
    }
   },
   "outputs": [
    {
     "name": "stdout",
     "output_type": "stream",
     "text": [
      "120\n",
      "20\n",
      "0\n"
     ]
    }
   ],
   "source": [
    "var1 = '12'\n",
    "var2 = 20.5\n",
    "var3 = False\n",
    "\n",
    "# YOUR CODE HERE\n",
    "print(int(\"12\") * 10)  \n",
    "print(int(20.5)) \n",
    "print(int(False))\n",
    "\n",
    "# print (int(\"Hello\")) # This wouldn't work!"
   ]
  },
  {
   "cell_type": "markdown",
   "id": "2e299603",
   "metadata": {
    "deletable": false,
    "editable": false,
    "nbgrader": {
     "cell_type": "markdown",
     "checksum": "965ed3086f3c69f4eb2027f4928d0889",
     "grade": false,
     "grade_id": "cell-d8cab23c663133e0",
     "locked": true,
     "schema_version": 3,
     "solution": false,
     "task": false
    }
   },
   "source": [
    "Write code in the cell below.\n",
    "\n",
    "* Use the str() function to concatenate `var1` with the string `.345` and print the result.\n",
    "* Use the str() function to convert `var2` to a string and print the result.\n",
    "* Concatenate the number `12.345` with the string ` is a string` and print the result."
   ]
  },
  {
   "cell_type": "code",
   "execution_count": 11,
   "id": "0298b03f",
   "metadata": {
    "deletable": false,
    "nbgrader": {
     "cell_type": "code",
     "checksum": "32f9b8d5cf45809257d819bd2a7ce331",
     "grade": true,
     "grade_id": "cell-fd148fb65c8f6682",
     "locked": false,
     "points": 1,
     "schema_version": 3,
     "solution": true,
     "task": false
    }
   },
   "outputs": [
    {
     "name": "stdout",
     "output_type": "stream",
     "text": [
      "12.345\n",
      "False\n",
      "12.345 is a string\n"
     ]
    }
   ],
   "source": [
    "var1 = 12\n",
    "var2 = False\n",
    "\n",
    "# YOUR CODE HERE\n",
    "print(str(12) + '.345')\n",
    "print(str(False))\n",
    "print(str(12.345) + ' is a string')"
   ]
  },
  {
   "cell_type": "markdown",
   "id": "f509d875",
   "metadata": {
    "deletable": false,
    "editable": false,
    "nbgrader": {
     "cell_type": "markdown",
     "checksum": "d403e3a33c5bddaa5cecdbbd9aa2a5e5",
     "grade": false,
     "grade_id": "cell-1e5e84f403e8f1f5",
     "locked": true,
     "schema_version": 3,
     "solution": false,
     "task": false
    }
   },
   "source": [
    "Write code in the cell below.\n",
    "\n",
    "* Use the bool() function each of the following data types and print each result.\n",
    "* The number `10`\n",
    "* The number `0.0`\n",
    "* The string `Hello`\n",
    "* An empty string"
   ]
  },
  {
   "cell_type": "code",
   "execution_count": 10,
   "id": "ea3e8fce",
   "metadata": {
    "deletable": false,
    "nbgrader": {
     "cell_type": "code",
     "checksum": "e099345f59fbb9420cc35ee6d918556a",
     "grade": true,
     "grade_id": "cell-5191426597fc449e",
     "locked": false,
     "points": 1,
     "schema_version": 3,
     "solution": true,
     "task": false
    }
   },
   "outputs": [
    {
     "name": "stdout",
     "output_type": "stream",
     "text": [
      "True\n",
      "False\n",
      "True\n",
      "False\n"
     ]
    }
   ],
   "source": [
    "\n",
    "# YOUR CODE HERE\n",
    "print(bool(10))\n",
    "print(bool(0.0))\n",
    "print(bool(\"Hello\"))\n",
    "print(bool(\"\"))"
   ]
  },
  {
   "cell_type": "markdown",
   "id": "a9afb30e",
   "metadata": {
    "deletable": false,
    "editable": false,
    "nbgrader": {
     "cell_type": "markdown",
     "checksum": "6b5e98388a285118efe60623970fbe13",
     "grade": false,
     "grade_id": "cell-5e4f923ee19d298f",
     "locked": true,
     "schema_version": 3,
     "solution": false,
     "task": false
    }
   },
   "source": [
    "Write your answer as a comment in the cell below.\n",
    "\n",
    "* What is the definition of a lambda function?"
   ]
  },
  {
   "cell_type": "code",
   "execution_count": null,
   "id": "243b624e",
   "metadata": {
    "deletable": false,
    "nbgrader": {
     "cell_type": "code",
     "checksum": "0b675d7199ae896467174151ac3156cc",
     "grade": true,
     "grade_id": "cell-1ba8a8f5b72f3417",
     "locked": false,
     "points": 1,
     "schema_version": 3,
     "solution": true,
     "task": false
    }
   },
   "outputs": [],
   "source": [
    "\n",
    "# YOUR CODE HERE\n",
    "#A lambda is an anonymous function that returns some form of data."
   ]
  },
  {
   "cell_type": "markdown",
   "id": "b03b446b",
   "metadata": {
    "deletable": false,
    "editable": false,
    "nbgrader": {
     "cell_type": "markdown",
     "checksum": "30a1e9498e2f757a58cdb2679be1e628",
     "grade": false,
     "grade_id": "cell-0b926f58b6bb3807",
     "locked": true,
     "schema_version": 3,
     "solution": false,
     "task": false
    }
   },
   "source": [
    "Write code in the cell below.\n",
    "\n",
    "* Create a lambda called `triple` which uses a lambda to triple the value of a parameter.\n",
    "* Call your lambda submitting a value of `10` and print the result."
   ]
  },
  {
   "cell_type": "code",
   "execution_count": 12,
   "id": "c2848bb2",
   "metadata": {
    "deletable": false,
    "nbgrader": {
     "cell_type": "code",
     "checksum": "63aa33020fbfd2cb00a014c2fe30ceb9",
     "grade": true,
     "grade_id": "cell-675fa14b22cc9a22",
     "locked": false,
     "points": 1,
     "schema_version": 3,
     "solution": true,
     "task": false
    }
   },
   "outputs": [
    {
     "name": "stdout",
     "output_type": "stream",
     "text": [
      "30\n"
     ]
    }
   ],
   "source": [
    "\n",
    "# YOUR CODE HERE\n",
    "triple = lambda num : num * 3\n",
    "\n",
    "print(triple(10))"
   ]
  },
  {
   "cell_type": "markdown",
   "id": "2e5e037d",
   "metadata": {
    "deletable": false,
    "editable": false,
    "nbgrader": {
     "cell_type": "markdown",
     "checksum": "c515c395da6ed45be383854fd9657b51",
     "grade": false,
     "grade_id": "cell-1539e0c7a5da7de4",
     "locked": true,
     "schema_version": 3,
     "solution": false,
     "task": false
    }
   },
   "source": [
    "Write code in the cell below.\n",
    "\n",
    "* Create a lambda called concat_strings which accepts three strings and concatenates the first letter of each of the strings.\n",
    "* Call your lambda submitting three strings and print the result."
   ]
  },
  {
   "cell_type": "code",
   "execution_count": 13,
   "id": "fff37220",
   "metadata": {
    "deletable": false,
    "nbgrader": {
     "cell_type": "code",
     "checksum": "8c7430f75e6958c056f1905a66965dd3",
     "grade": true,
     "grade_id": "cell-1292d919123c82e3",
     "locked": false,
     "points": 1,
     "schema_version": 3,
     "solution": true,
     "task": false
    }
   },
   "outputs": [
    {
     "name": "stdout",
     "output_type": "stream",
     "text": [
      "WWW\n"
     ]
    }
   ],
   "source": [
    "\n",
    "# YOUR CODE HERE\n",
    "concat_strings = lambda a, b, c: a[0] + b[0] + c[0]\n",
    "\n",
    "print(concat_strings(\"World\", \"Wide\", \"Web\"))"
   ]
  },
  {
   "cell_type": "markdown",
   "id": "9946ae94",
   "metadata": {
    "deletable": false,
    "editable": false,
    "nbgrader": {
     "cell_type": "markdown",
     "checksum": "f5c0eeb6d51bc478e291c8af7fc899fe",
     "grade": false,
     "grade_id": "cell-fe8bea02cdfad8e3",
     "locked": true,
     "schema_version": 3,
     "solution": false,
     "task": false
    }
   },
   "source": [
    "Write code in the cell below.\n",
    "\n",
    "* Create a lambda which accepts a number as an input and prints `High` if the number is greater than 50 and prints `Low` if it is not.\n",
    "* Call your lambda submitting a value of `60` and print the result."
   ]
  },
  {
   "cell_type": "code",
   "execution_count": 14,
   "id": "46c7dca4",
   "metadata": {
    "deletable": false,
    "nbgrader": {
     "cell_type": "code",
     "checksum": "395bc24d636bb3834a6543ebc40c4b2c",
     "grade": true,
     "grade_id": "cell-3ad4c18a66ccaaef",
     "locked": false,
     "points": 1,
     "schema_version": 3,
     "solution": true,
     "task": false
    }
   },
   "outputs": [
    {
     "name": "stdout",
     "output_type": "stream",
     "text": [
      "High\n"
     ]
    }
   ],
   "source": [
    "\n",
    "# YOUR CODE HERE\n",
    "my_func = lambda num: \"High\" if num > 50 else \"Low\"\n",
    "\n",
    "print(my_func(60))"
   ]
  },
  {
   "cell_type": "markdown",
   "id": "5b5955b8",
   "metadata": {
    "deletable": false,
    "editable": false,
    "nbgrader": {
     "cell_type": "markdown",
     "checksum": "3775e40e157a3aa68df39728c59ade2b",
     "grade": false,
     "grade_id": "cell-8ce291ceb8c91116",
     "locked": true,
     "schema_version": 3,
     "solution": false,
     "task": false
    }
   },
   "source": [
    "Write code in the cell below.\n",
    "\n",
    "* Create a new list called double_list by using the map() function to apply a lambda to each member of `num_list` which multiplies each value by two.\n",
    "* Print `double_list`."
   ]
  },
  {
   "cell_type": "code",
   "execution_count": 15,
   "id": "4507fd7c",
   "metadata": {
    "deletable": false,
    "nbgrader": {
     "cell_type": "code",
     "checksum": "966c69b49b230eec21a8e933285b48f7",
     "grade": true,
     "grade_id": "cell-8aab4ad62758d99f",
     "locked": false,
     "points": 2,
     "schema_version": 3,
     "solution": true,
     "task": false
    }
   },
   "outputs": [
    {
     "name": "stdout",
     "output_type": "stream",
     "text": [
      "[0, 1, 2, 3, 4, 5]\n"
     ]
    }
   ],
   "source": [
    "num_list = [0, 1, 2, 3, 4, 5]\n",
    "print(num_list)\n",
    "\n",
    "# YOUR CODE HERE\n",
    "double_list = map(lambda n: n * 2, num_list)"
   ]
  },
  {
   "cell_type": "markdown",
   "id": "2b7b7003",
   "metadata": {
    "deletable": false,
    "editable": false,
    "nbgrader": {
     "cell_type": "markdown",
     "checksum": "06f7e110ba45da1cf8baa4cc2c59cb92",
     "grade": false,
     "grade_id": "cell-2c85cb2a0235b3e4",
     "locked": true,
     "schema_version": 3,
     "solution": false,
     "task": false
    }
   },
   "source": [
    "Write code in the cell below.\n",
    "\n",
    "* Create a new list called greater_than_10 by using the filter() function to apply a lambda to each member of `num_list` which retains only values greater than 10.\n",
    "* Print `greater_than_10`."
   ]
  },
  {
   "cell_type": "code",
   "execution_count": 17,
   "id": "8a10c0ea",
   "metadata": {
    "deletable": false,
    "nbgrader": {
     "cell_type": "code",
     "checksum": "dd578f89379eafc11e961c96c91aa592",
     "grade": true,
     "grade_id": "cell-f310ca1191f7a260",
     "locked": false,
     "points": 2,
     "schema_version": 3,
     "solution": true,
     "task": false
    }
   },
   "outputs": [
    {
     "name": "stdout",
     "output_type": "stream",
     "text": [
      "[30, 2, -15, 17, 9, 100]\n",
      "[30, 17, 100]\n"
     ]
    }
   ],
   "source": [
    "num_list = [30, 2, -15, 17, 9, 100]\n",
    "print(num_list)\n",
    "\n",
    "# YOUR CODE HERE\n",
    "greater_than_10 = list(filter(lambda n: n > 10, num_list))\n",
    "print(greater_than_10)"
   ]
  },
  {
   "cell_type": "markdown",
   "id": "ba2ae3a1",
   "metadata": {
    "deletable": false,
    "editable": false,
    "nbgrader": {
     "cell_type": "markdown",
     "checksum": "2d8e656005698987d604b5a1a32d60bb",
     "grade": false,
     "grade_id": "cell-5c3bfd9ca0b03e02",
     "locked": true,
     "schema_version": 3,
     "solution": false,
     "task": false
    }
   },
   "source": [
    "Write code in the cell below.\n",
    "\n",
    "* Write a recursive function called `rec_count` which accepts a number as an argument and decreases the number by 1 recursively until the number becomes `0` and prints each number as it counts down.\n",
    "* Call the function using a value less than 10."
   ]
  },
  {
   "cell_type": "code",
   "execution_count": 18,
   "id": "c50da401",
   "metadata": {
    "deletable": false,
    "nbgrader": {
     "cell_type": "code",
     "checksum": "4d5f2869967c6eb624ddce57e5529e4a",
     "grade": true,
     "grade_id": "cell-3c454d9397820897",
     "locked": false,
     "points": 2,
     "schema_version": 3,
     "solution": true,
     "task": false
    }
   },
   "outputs": [
    {
     "name": "stdout",
     "output_type": "stream",
     "text": [
      "7\n",
      "6\n",
      "5\n",
      "4\n",
      "3\n",
      "2\n",
      "1\n",
      "0\n",
      "1\n",
      "2\n",
      "3\n",
      "4\n",
      "5\n",
      "6\n",
      "7\n"
     ]
    }
   ],
   "source": [
    "\n",
    "# YOUR CODE HERE\n",
    "def rec_count(number):\n",
    "    print(number)\n",
    "   \n",
    "    if number == 0:\n",
    "        return 0\n",
    "    rec_count(number - 1)\n",
    "    print(number)\n",
    "\n",
    "\n",
    "rec_count(7)"
   ]
  },
  {
   "cell_type": "markdown",
   "id": "d8d5a8ee",
   "metadata": {
    "deletable": false,
    "editable": false,
    "nbgrader": {
     "cell_type": "markdown",
     "checksum": "84b60cdad14664474145ed18654e4ac4",
     "grade": false,
     "grade_id": "cell-d061d4121a3524bd",
     "locked": true,
     "schema_version": 3,
     "solution": false,
     "task": false
    }
   },
   "source": [
    "Write code in the cell below.\n",
    "\n",
    "* Write a recursive function called `fib` which accepts a number `n` as an argument.\n",
    "* If the value of n is less than or equal to the value of one, return the first value in the Fibonacci sequence which is 0.\n",
    "* If the value of n is equal to two, return the second value in the Fibonacci sequence which is 1.\n",
    "* Otherwise return the sum of the last two values in the Fibonacci sequence. Hint: You need to recursively call fib(n-1) and add that to fib(n-2).\n",
    "* Call the function using a value less than 10."
   ]
  },
  {
   "cell_type": "code",
   "execution_count": 19,
   "id": "d3d64e09",
   "metadata": {
    "deletable": false,
    "nbgrader": {
     "cell_type": "code",
     "checksum": "be7582469a89a81beb3aa742ee3bdf9b",
     "grade": true,
     "grade_id": "cell-c2fe7cb184944170",
     "locked": false,
     "points": 2,
     "schema_version": 3,
     "solution": true,
     "task": false
    }
   },
   "outputs": [
    {
     "name": "stdout",
     "output_type": "stream",
     "text": [
      "3\n"
     ]
    }
   ],
   "source": [
    "\n",
    "# YOUR CODE HERE\n",
    "def fib(n):\n",
    "   \n",
    "    if n <= 1:  \n",
    "        return 0\n",
    "    elif n == 2: \n",
    "        return 1\n",
    "    else:\n",
    "        \n",
    "        return fib(n - 1) + fib(n - 2)\n",
    "\n",
    "\n",
    "print(fib(5))"
   ]
  },
  {
   "cell_type": "code",
   "execution_count": null,
   "id": "65e42e3f",
   "metadata": {},
   "outputs": [],
   "source": []
  }
 ],
 "metadata": {
  "kernelspec": {
   "display_name": "Python 3 (ipykernel)",
   "language": "python",
   "name": "python3"
  },
  "language_info": {
   "codemirror_mode": {
    "name": "ipython",
    "version": 3
   },
   "file_extension": ".py",
   "mimetype": "text/x-python",
   "name": "python",
   "nbconvert_exporter": "python",
   "pygments_lexer": "ipython3",
   "version": "3.9.12"
  }
 },
 "nbformat": 4,
 "nbformat_minor": 5
}
